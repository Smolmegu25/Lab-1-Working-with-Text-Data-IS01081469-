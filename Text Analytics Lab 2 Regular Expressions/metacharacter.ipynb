{
 "cells": [
  {
   "cell_type": "code",
   "execution_count": 2,
   "id": "b804b8b7",
   "metadata": {},
   "outputs": [
    {
     "name": "stdout",
     "output_type": "stream",
     "text": [
      "['I', ' ', 'a', 'm', ' ', 'l', 'e', 'a', 'r', 'n', 'i', 'n', 'g', ' ', 't', 'e', 'x', 't', ' ', 'a', 'n', 'a', 'l', 'y', 't', 'i', 'c', 's']\n"
     ]
    }
   ],
   "source": [
    "import re\n",
    "\n",
    "sentence1 = re.findall(r'.', 'I am learning text analytics')\n",
    "print (sentence1)"
   ]
  },
  {
   "cell_type": "code",
   "execution_count": 3,
   "id": "e8402c82",
   "metadata": {},
   "outputs": [
    {
     "name": "stdout",
     "output_type": "stream",
     "text": [
      "['I', 'a', 'm', 'l', 'e', 'a', 'r', 'n', 'i', 'n', 'g', 't', 'e', 'x', 't', 'a', 'n', 'a', 'l', 'y', 't', 'i', 'c', 's']\n"
     ]
    }
   ],
   "source": [
    "sentence2 = re.findall(r'\\w', 'I am learning text analytics')\n",
    "print (sentence2)"
   ]
  },
  {
   "cell_type": "code",
   "execution_count": 4,
   "id": "65b4b764",
   "metadata": {},
   "outputs": [
    {
     "name": "stdout",
     "output_type": "stream",
     "text": [
      "['I', '', 'am', '', 'learning', '', 'text', '', 'analytics', '']\n"
     ]
    }
   ],
   "source": [
    "sentence3 = re.findall(r'\\w*', 'I am learning text analytics')\n",
    "print (sentence3)"
   ]
  },
  {
   "cell_type": "code",
   "execution_count": 5,
   "id": "0df2c0d4",
   "metadata": {},
   "outputs": [
    {
     "name": "stdout",
     "output_type": "stream",
     "text": [
      "['I', 'am', 'learning', 'text', 'analytics']\n"
     ]
    }
   ],
   "source": [
    "sentence4 = re.findall(r'\\w+', 'I am learning text analytics')\n",
    "print (sentence4)"
   ]
  },
  {
   "cell_type": "code",
   "execution_count": 7,
   "id": "79a2c820",
   "metadata": {},
   "outputs": [
    {
     "name": "stdout",
     "output_type": "stream",
     "text": [
      "['I']\n"
     ]
    }
   ],
   "source": [
    "sentence5 = re.findall(r'^\\w+', 'I am learning text analytics')\n",
    "print (sentence5)"
   ]
  },
  {
   "cell_type": "code",
   "execution_count": 8,
   "id": "86e8ac68",
   "metadata": {},
   "outputs": [
    {
     "name": "stdout",
     "output_type": "stream",
     "text": [
      "['analytics']\n"
     ]
    }
   ],
   "source": [
    "sentence6 = re.findall(r'\\w+$', 'I am learning text analytics')\n",
    "print (sentence6)"
   ]
  },
  {
   "cell_type": "code",
   "execution_count": 9,
   "id": "3dddfb7a",
   "metadata": {},
   "outputs": [
    {
     "name": "stdout",
     "output_type": "stream",
     "text": [
      "['am', 'le', 'ar', 'ni', 'ng', 'te', 'xt', 'an', 'al', 'yt', 'ic']\n"
     ]
    }
   ],
   "source": [
    "sentence7 = re.findall(r'\\w\\w', 'I am learning text analytics')\n",
    "print (sentence7)"
   ]
  },
  {
   "cell_type": "code",
   "execution_count": 10,
   "id": "5c1ddc5b",
   "metadata": {},
   "outputs": [
    {
     "name": "stdout",
     "output_type": "stream",
     "text": [
      "['am', 'le', 'te', 'an']\n"
     ]
    }
   ],
   "source": [
    "sentence8 = re.findall(r'\\b\\w\\w', 'I am learning text analytics')\n",
    "print (sentence8)"
   ]
  },
  {
   "cell_type": "code",
   "execution_count": null,
   "id": "95f23e96",
   "metadata": {},
   "outputs": [],
   "source": []
  }
 ],
 "metadata": {
  "kernelspec": {
   "display_name": "Python 3 (ipykernel)",
   "language": "python",
   "name": "python3"
  },
  "language_info": {
   "codemirror_mode": {
    "name": "ipython",
    "version": 3
   },
   "file_extension": ".py",
   "mimetype": "text/x-python",
   "name": "python",
   "nbconvert_exporter": "python",
   "pygments_lexer": "ipython3",
   "version": "3.11.5"
  }
 },
 "nbformat": 4,
 "nbformat_minor": 5
}
