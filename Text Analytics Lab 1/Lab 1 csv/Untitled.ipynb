{
 "cells": [
  {
   "cell_type": "code",
   "execution_count": 1,
   "id": "3d9b2a49",
   "metadata": {},
   "outputs": [],
   "source": [
    "csv_file = 'sample_data.csv'"
   ]
  },
  {
   "cell_type": "code",
   "execution_count": 2,
   "id": "90dd8cb3",
   "metadata": {},
   "outputs": [],
   "source": [
    "output_file = 'comments.txt'"
   ]
  },
  {
   "cell_type": "code",
   "execution_count": 3,
   "id": "92d570eb",
   "metadata": {},
   "outputs": [
    {
     "ename": "SyntaxError",
     "evalue": "incomplete input (925886510.py, line 1)",
     "output_type": "error",
     "traceback": [
      "\u001b[1;36m  Cell \u001b[1;32mIn[3], line 1\u001b[1;36m\u001b[0m\n\u001b[1;33m    with open(csv_file, 'r', newline='') as csvfile:\u001b[0m\n\u001b[1;37m                                                    ^\u001b[0m\n\u001b[1;31mSyntaxError\u001b[0m\u001b[1;31m:\u001b[0m incomplete input\n"
     ]
    }
   ],
   "source": [
    "with open(csv_file, 'r', newline='') as csvfile:"
   ]
  },
  {
   "cell_type": "code",
   "execution_count": 7,
   "id": "86e21478",
   "metadata": {},
   "outputs": [
    {
     "name": "stdout",
     "output_type": "stream",
     "text": [
      "Comments extracted and saved to comments.txt\n"
     ]
    }
   ],
   "source": [
    "import csv\n",
    "\n",
    "csv_file = 'sample_data.csv'\n",
    "\n",
    "output_file = 'comments.txt'\n",
    "\n",
    "\n",
    "with open(csv_file, 'r', newline='') as csvfile:\n",
    " reader = csv.DictReader(csvfile)\n",
    " comments = []\n",
    "    \n",
    " for row in reader:\n",
    "    comments.append(row['comments'])\n",
    "\n",
    "with open(output_file, 'w') as txtfile:\n",
    " \n",
    " for comment in comments:\n",
    "    txtfile.write(comment + '\\n')\n",
    "    \n",
    "print(\"Comments extracted and saved to\", output_file)"
   ]
  },
  {
   "cell_type": "code",
   "execution_count": null,
   "id": "a954f0da",
   "metadata": {},
   "outputs": [],
   "source": []
  }
 ],
 "metadata": {
  "kernelspec": {
   "display_name": "Python 3 (ipykernel)",
   "language": "python",
   "name": "python3"
  },
  "language_info": {
   "codemirror_mode": {
    "name": "ipython",
    "version": 3
   },
   "file_extension": ".py",
   "mimetype": "text/x-python",
   "name": "python",
   "nbconvert_exporter": "python",
   "pygments_lexer": "ipython3",
   "version": "3.11.5"
  }
 },
 "nbformat": 4,
 "nbformat_minor": 5
}
